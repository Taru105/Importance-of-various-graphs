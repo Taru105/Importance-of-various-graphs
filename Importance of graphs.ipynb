{
 "cells": [
  {
   "cell_type": "code",
   "execution_count": 1,
   "metadata": {},
   "outputs": [],
   "source": [
    "# 1. line, scatter and bar graphs\n",
    "# In all the abobe three cases the data is given in two arrays \n",
    "\n",
    "# Bar graphs: To make comparison how things are changing when we move from one point to another \n",
    "# means it is used to show trends in a graph.\n",
    "\n",
    "# line graphs and bar graphs are generally used to observe trends but line graphs are used \n",
    "# for smaller intervals while bar graphs for huge amount of Data \n",
    "\n",
    "# Scatter graphs are used to make comparison and get the relation between x and y\n",
    "\n",
    "# 2. Pie charts\n",
    "# Whenever we want to get the contribution of each element of given data out of whole then \n",
    "# it's convenient to  use pie-charts\n",
    "\n",
    "# 3. bubble charts\n",
    "# it is also used to get third variable's trend in the same 2-D graph without jumping to 3-D graph\n",
    "\n",
    "# 4. Histograms\n",
    "# They are perfect to show frequency and how many data points are there in the given range\n",
    "\n",
    " "
   ]
  }
 ],
 "metadata": {
  "interpreter": {
   "hash": "26de051ba29f2982a8de78e945f0abaf191376122a1563185a90213a26c5da77"
  },
  "kernelspec": {
   "display_name": "Python 3.10.4 64-bit",
   "language": "python",
   "name": "python3"
  },
  "language_info": {
   "codemirror_mode": {
    "name": "ipython",
    "version": 3
   },
   "file_extension": ".py",
   "mimetype": "text/x-python",
   "name": "python",
   "nbconvert_exporter": "python",
   "pygments_lexer": "ipython3",
   "version": "3.10.4"
  },
  "orig_nbformat": 4
 },
 "nbformat": 4,
 "nbformat_minor": 2
}
